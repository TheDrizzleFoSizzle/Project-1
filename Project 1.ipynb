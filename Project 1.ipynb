{
 "cells": [
  {
   "cell_type": "code",
   "execution_count": 8,
   "id": "72df3cb2",
   "metadata": {},
   "outputs": [
    {
     "name": "stdout",
     "output_type": "stream",
     "text": [
      "What is the length of fence you want in feet?10\n",
      "What is the width of the fence you want in feet?20\n",
      "Your Desired area is 200 square feet.\n"
     ]
    }
   ],
   "source": [
    "# This bit of code helps get the info needed \n",
    "\n",
    "Length = int(input(\"What is the length of fence you want in feet?\"))\n",
    "Width = int(input(\"What is the width of the fence you want in feet?\"))\n",
    "print(\"Your Desired area is\", Length*Width, \"square feet.\")"
   ]
  },
  {
   "cell_type": "code",
   "execution_count": 9,
   "id": "e5e1776b",
   "metadata": {},
   "outputs": [
    {
     "name": "stdout",
     "output_type": "stream",
     "text": [
      "How far apart do you want your posts to be in feet?5\n",
      "This looks good for the length\n",
      "This looks good for the width\n"
     ]
    }
   ],
   "source": [
    "dist_post=int(input(\"How far apart do you want your posts to be in feet?\"))\n",
    "\n",
    "if Length%dist_post==0:\n",
    "    print(\"This looks good for the length\")\n",
    "else: print(\"The math doesnt work out well for your chosen length\")\n",
    "    \n",
    "if Width%dist_post==0:\n",
    "     print(\"This looks good for the width\")\n",
    "else: print(\"The math doesnt work out well for your chosen width\")"
   ]
  },
  {
   "cell_type": "code",
   "execution_count": 18,
   "id": "a72d74df",
   "metadata": {},
   "outputs": [],
   "source": [
    "num_post=2*Length/dist_post+2*Width/dist_post"
   ]
  },
  {
   "cell_type": "code",
   "execution_count": 13,
   "id": "13eb6c74",
   "metadata": {},
   "outputs": [
    {
     "name": "stdout",
     "output_type": "stream",
     "text": [
      "The best length of board to use will be a multiple of 2.0 ft for the length of the fence.\n",
      "The best length of board to use will be a multiple of 4.0 ft for the width of the fence.\n",
      "What is the length of board you would like to use?3\n",
      "This works for the length of the fence\n",
      "This wont work for the width of the fence.\n"
     ]
    }
   ],
   "source": [
    "print(\"The best length of board to use will be a multiple of\", Length/dist_post, \"ft for the length of the fence.\")\n",
    "print(\"The best length of board to use will be a multiple of\", Width/dist_post, \"ft for the width of the fence.\")\n",
    "board_length=int(input(\"What is the length of board you would like to use?\"))\n",
    "\n",
    "if board_length>Length/dist_post:\n",
    "    print(\"This works for the length of the fence\")\n",
    "else: print(\"This wont work for the length of the fence.\")\n",
    "        \n",
    "if board_length>Width/dist_post:\n",
    "    print(\"This works for the width of the fence\")\n",
    "else: print(\"This wont work for the width of the fence.\")"
   ]
  },
  {
   "cell_type": "code",
   "execution_count": 20,
   "id": "78655050",
   "metadata": {},
   "outputs": [
    {
     "name": "stdout",
     "output_type": "stream",
     "text": [
      "What is the height of fence you would like?7\n",
      "What is the width of the fence boards in inches?3.5\n",
      "You will need 24.0 boards between posts to meet his height.\n"
     ]
    }
   ],
   "source": [
    "fence_height=float(input(\"What is the height of fence you would like?\"))\n",
    "board_width = float(input(\"What is the width of the fence boards in inches?\"))\n",
    "board_for_height = fence_height/(board_width/12)\n",
    "print(\"You will need\",board_for_height,\"boards between posts to meet his height.\")"
   ]
  },
  {
   "cell_type": "code",
   "execution_count": 23,
   "id": "2b6d050d",
   "metadata": {},
   "outputs": [
    {
     "name": "stdout",
     "output_type": "stream",
     "text": [
      "How much does each post cost?10\n",
      "How much does each board cost?69.69\n",
      "The number of posts you will need is 12.0 .\n",
      "The cost for the posts will be 120.0 .\n",
      "The cost for the boards will be 20070.72 .\n",
      "The total cost will be 20190.72 .\n"
     ]
    }
   ],
   "source": [
    "per_post_cost=float(input(\"How much does each post cost?\"))\n",
    "per_board_cost=float(input(\"How much does each board cost?\"))\n",
    "print(\"The number of posts you will need is\", num_post, \".\")\n",
    "\n",
    "post_cost = num_post*per_post_cost\n",
    "print(\"The cost for the posts will be\", post_cost,\".\")\n",
    "\n",
    "board_cost=per_board_cost*board_for_height*num_post\n",
    "print(\"The cost for the boards will be\", board_cost,\".\")\n",
    "\n",
    "total_cost = board_cost + post_cost\n",
    "print(\"The total cost will be\", total_cost,\".\")"
   ]
  },
  {
   "cell_type": "code",
   "execution_count": null,
   "id": "7a553917",
   "metadata": {},
   "outputs": [],
   "source": []
  }
 ],
 "metadata": {
  "kernelspec": {
   "display_name": "Python 3 (ipykernel)",
   "language": "python",
   "name": "python3"
  },
  "language_info": {
   "codemirror_mode": {
    "name": "ipython",
    "version": 3
   },
   "file_extension": ".py",
   "mimetype": "text/x-python",
   "name": "python",
   "nbconvert_exporter": "python",
   "pygments_lexer": "ipython3",
   "version": "3.9.7"
  }
 },
 "nbformat": 4,
 "nbformat_minor": 5
}
